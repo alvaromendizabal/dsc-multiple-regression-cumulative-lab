{
 "cells": [
  {
   "cell_type": "markdown",
   "metadata": {},
   "source": [
    "# Multiple Linear Regression - Cumulative Lab"
   ]
  },
  {
   "cell_type": "markdown",
   "metadata": {},
   "source": [
    "## Introduction\n",
    "\n",
    "In this cumulative lab you'll perform an end-to-end analysis of a dataset using multiple linear regression."
   ]
  },
  {
   "cell_type": "markdown",
   "metadata": {},
   "source": [
    "## Objectives\n",
    "\n",
    "You will be able to:\n",
    "\n",
    "* Prepare data for regression analysis using pandas\n",
    "* Build multiple linear regression models using StatsModels\n",
    "* Measure regression model performance\n",
    "* Interpret multiple linear regression coefficients"
   ]
  },
  {
   "cell_type": "markdown",
   "metadata": {},
   "source": [
    "## Your Task: Develop a Model of Diamond Prices\n",
    "\n",
    "![tweezers holding a diamond](diamond.jpg)\n",
    "\n",
    "Photo by <a href=\"https://unsplash.com/@tahliaclaire?utm_source=unsplash&utm_medium=referral&utm_content=creditCopyText\">Tahlia Doyle</a> on <a href=\"https://unsplash.com/s/photos/diamonds?utm_source=unsplash&utm_medium=referral&utm_content=creditCopyText\">Unsplash</a>"
   ]
  },
  {
   "cell_type": "markdown",
   "metadata": {},
   "source": [
    "### Business Understanding\n",
    "\n",
    "You've been asked to perform an analysis to see how various factors impact the price of diamonds. There are various [guides online](https://www.diamonds.pro/education/diamond-prices/) that claim to tell consumers how to avoid getting \"ripped off\", but you've been asked to dig into the data to see whether these claims ring true.\n",
    "\n",
    "### Data Understanding\n",
    "\n",
    "We have downloaded a diamonds dataset from [Kaggle](https://www.kaggle.com/datasets/shivam2503/diamonds), which came with this description:\n",
    "\n",
    "* **price** price in US dollars (\\$326--\\$18,823)\n",
    "* **carat** weight of the diamond (0.2--5.01)\n",
    "* **cut** quality of the cut (Fair, Good, Very Good, Premium, Ideal)\n",
    "* **color** diamond colour, from J (worst) to D (best)\n",
    "* **clarity** a measurement of how clear the diamond is (I1 (worst), SI2, SI1, VS2, VS1, VVS2, VVS1, IF (best))\n",
    "* **x** length in mm (0--10.74)\n",
    "* **y** width in mm (0--58.9)\n",
    "* **z** depth in mm (0--31.8)\n",
    "* **depth** total depth percentage = z / mean(x, y) = 2 * z / (x + y) (43--79)\n",
    "* **table** width of top of diamond relative to widest point (43--95)"
   ]
  },
  {
   "cell_type": "markdown",
   "metadata": {},
   "source": [
    "### Requirements\n",
    "\n",
    "#### 1. Load the Data Using Pandas\n",
    "\n",
    "Practice once again with loading CSV data into a `pandas` dataframe.\n",
    "\n",
    "#### 2. Build a Baseline Simple Linear Regression Model\n",
    "\n",
    "Identify the feature that is most correlated with `price` and build a StatsModels linear regression model using just that feature.\n",
    "\n",
    "#### 3. Evaluate and Interpret Baseline Model Results\n",
    "\n",
    "Explain the overall performance as well as parameter coefficients for the baseline simple linear regression model.\n",
    "\n",
    "#### 4. Prepare a Categorical Feature for Multiple Regression Modeling\n",
    "\n",
    "Identify a promising categorical feature and use `pd.get_dummies()` to prepare it for modeling.\n",
    "\n",
    "#### 5. Build a Multiple Linear Regression Model\n",
    "\n",
    "Using the data from Step 4, create a second StatsModels linear regression model using one numeric feature and one one-hot encoded categorical feature.\n",
    "\n",
    "#### 6. Evaluate and Interpret Multiple Linear Regression Model Results\n",
    "\n",
    "Explain the performance of the new model in comparison with the baseline, and interpret the new parameter coefficients."
   ]
  },
  {
   "cell_type": "markdown",
   "metadata": {},
   "source": [
    "## 1. Load the Data Using Pandas\n",
    "\n",
    "Import `pandas` (with the standard alias `pd`), and load the data from the file `diamonds.csv` into a DataFrame called `diamonds`.\n",
    "\n",
    "Be sure to specify `index_col=0` to avoid creating an \"Unnamed: 0\" column."
   ]
  },
  {
   "cell_type": "code",
   "execution_count": 1,
   "metadata": {},
   "outputs": [],
   "source": [
    "# Your code here - load the dataset\n",
    "import numpy as np\n",
    "import matplotlib.pyplot as plt\n",
    "import seaborn as sns\n",
    "import pandas as pd\n",
    "from scipy import stats\n",
    "\n",
    "import statsmodels.api as sm\n",
    "\n",
    "from sklearn.linear_model import LinearRegression\n",
    "from sklearn.metrics import mean_absolute_error, mean_squared_error\n",
    "from sklearn.preprocessing import OneHotEncoder"
   ]
  },
  {
   "cell_type": "code",
   "execution_count": 2,
   "metadata": {},
   "outputs": [],
   "source": [
    "# Your code here\n",
    "diamonds = pd.read_csv('diamonds.csv', index_col=0)"
   ]
  },
  {
   "cell_type": "markdown",
   "metadata": {},
   "source": [
    "The following code checks that you loaded the data correctly:"
   ]
  },
  {
   "cell_type": "code",
   "execution_count": 3,
   "metadata": {},
   "outputs": [],
   "source": [
    "# Run this cell without changes\n",
    "\n",
    "# diamonds should be a dataframe\n",
    "assert type(diamonds) == pd.DataFrame\n",
    "\n",
    "# Check that there are the correct number of rows\n",
    "assert diamonds.shape[0] == 53940\n",
    "\n",
    "# Check that there are the correct number of columns\n",
    "# (if this crashes, make sure you specified `index_col=0`)\n",
    "assert diamonds.shape[1] == 10"
   ]
  },
  {
   "cell_type": "markdown",
   "metadata": {},
   "source": [
    "Inspect the distributions of the numeric features:"
   ]
  },
  {
   "cell_type": "code",
   "execution_count": 4,
   "metadata": {
    "scrolled": true
   },
   "outputs": [
    {
     "data": {
      "text/html": [
       "<div>\n",
       "<style scoped>\n",
       "    .dataframe tbody tr th:only-of-type {\n",
       "        vertical-align: middle;\n",
       "    }\n",
       "\n",
       "    .dataframe tbody tr th {\n",
       "        vertical-align: top;\n",
       "    }\n",
       "\n",
       "    .dataframe thead th {\n",
       "        text-align: right;\n",
       "    }\n",
       "</style>\n",
       "<table border=\"1\" class=\"dataframe\">\n",
       "  <thead>\n",
       "    <tr style=\"text-align: right;\">\n",
       "      <th></th>\n",
       "      <th>carat</th>\n",
       "      <th>depth</th>\n",
       "      <th>table</th>\n",
       "      <th>price</th>\n",
       "      <th>x</th>\n",
       "      <th>y</th>\n",
       "      <th>z</th>\n",
       "    </tr>\n",
       "  </thead>\n",
       "  <tbody>\n",
       "    <tr>\n",
       "      <th>count</th>\n",
       "      <td>53940.000000</td>\n",
       "      <td>53940.000000</td>\n",
       "      <td>53940.000000</td>\n",
       "      <td>53940.000000</td>\n",
       "      <td>53940.000000</td>\n",
       "      <td>53940.000000</td>\n",
       "      <td>53940.000000</td>\n",
       "    </tr>\n",
       "    <tr>\n",
       "      <th>mean</th>\n",
       "      <td>0.797940</td>\n",
       "      <td>61.749405</td>\n",
       "      <td>57.457184</td>\n",
       "      <td>3932.799722</td>\n",
       "      <td>5.731157</td>\n",
       "      <td>5.734526</td>\n",
       "      <td>3.538734</td>\n",
       "    </tr>\n",
       "    <tr>\n",
       "      <th>std</th>\n",
       "      <td>0.474011</td>\n",
       "      <td>1.432621</td>\n",
       "      <td>2.234491</td>\n",
       "      <td>3989.439738</td>\n",
       "      <td>1.121761</td>\n",
       "      <td>1.142135</td>\n",
       "      <td>0.705699</td>\n",
       "    </tr>\n",
       "    <tr>\n",
       "      <th>min</th>\n",
       "      <td>0.200000</td>\n",
       "      <td>43.000000</td>\n",
       "      <td>43.000000</td>\n",
       "      <td>326.000000</td>\n",
       "      <td>0.000000</td>\n",
       "      <td>0.000000</td>\n",
       "      <td>0.000000</td>\n",
       "    </tr>\n",
       "    <tr>\n",
       "      <th>25%</th>\n",
       "      <td>0.400000</td>\n",
       "      <td>61.000000</td>\n",
       "      <td>56.000000</td>\n",
       "      <td>950.000000</td>\n",
       "      <td>4.710000</td>\n",
       "      <td>4.720000</td>\n",
       "      <td>2.910000</td>\n",
       "    </tr>\n",
       "    <tr>\n",
       "      <th>50%</th>\n",
       "      <td>0.700000</td>\n",
       "      <td>61.800000</td>\n",
       "      <td>57.000000</td>\n",
       "      <td>2401.000000</td>\n",
       "      <td>5.700000</td>\n",
       "      <td>5.710000</td>\n",
       "      <td>3.530000</td>\n",
       "    </tr>\n",
       "    <tr>\n",
       "      <th>75%</th>\n",
       "      <td>1.040000</td>\n",
       "      <td>62.500000</td>\n",
       "      <td>59.000000</td>\n",
       "      <td>5324.250000</td>\n",
       "      <td>6.540000</td>\n",
       "      <td>6.540000</td>\n",
       "      <td>4.040000</td>\n",
       "    </tr>\n",
       "    <tr>\n",
       "      <th>max</th>\n",
       "      <td>5.010000</td>\n",
       "      <td>79.000000</td>\n",
       "      <td>95.000000</td>\n",
       "      <td>18823.000000</td>\n",
       "      <td>10.740000</td>\n",
       "      <td>58.900000</td>\n",
       "      <td>31.800000</td>\n",
       "    </tr>\n",
       "  </tbody>\n",
       "</table>\n",
       "</div>"
      ],
      "text/plain": [
       "              carat         depth         table         price             x  \\\n",
       "count  53940.000000  53940.000000  53940.000000  53940.000000  53940.000000   \n",
       "mean       0.797940     61.749405     57.457184   3932.799722      5.731157   \n",
       "std        0.474011      1.432621      2.234491   3989.439738      1.121761   \n",
       "min        0.200000     43.000000     43.000000    326.000000      0.000000   \n",
       "25%        0.400000     61.000000     56.000000    950.000000      4.710000   \n",
       "50%        0.700000     61.800000     57.000000   2401.000000      5.700000   \n",
       "75%        1.040000     62.500000     59.000000   5324.250000      6.540000   \n",
       "max        5.010000     79.000000     95.000000  18823.000000     10.740000   \n",
       "\n",
       "                  y             z  \n",
       "count  53940.000000  53940.000000  \n",
       "mean       5.734526      3.538734  \n",
       "std        1.142135      0.705699  \n",
       "min        0.000000      0.000000  \n",
       "25%        4.720000      2.910000  \n",
       "50%        5.710000      3.530000  \n",
       "75%        6.540000      4.040000  \n",
       "max       58.900000     31.800000  "
      ]
     },
     "execution_count": 4,
     "metadata": {},
     "output_type": "execute_result"
    }
   ],
   "source": [
    "# Run this cell without changes\n",
    "diamonds.describe()"
   ]
  },
  {
   "cell_type": "code",
   "execution_count": 5,
   "metadata": {},
   "outputs": [
    {
     "data": {
      "text/html": [
       "<div>\n",
       "<style scoped>\n",
       "    .dataframe tbody tr th:only-of-type {\n",
       "        vertical-align: middle;\n",
       "    }\n",
       "\n",
       "    .dataframe tbody tr th {\n",
       "        vertical-align: top;\n",
       "    }\n",
       "\n",
       "    .dataframe thead th {\n",
       "        text-align: right;\n",
       "    }\n",
       "</style>\n",
       "<table border=\"1\" class=\"dataframe\">\n",
       "  <thead>\n",
       "    <tr style=\"text-align: right;\">\n",
       "      <th></th>\n",
       "      <th>carat</th>\n",
       "      <th>cut</th>\n",
       "      <th>color</th>\n",
       "      <th>clarity</th>\n",
       "      <th>depth</th>\n",
       "      <th>table</th>\n",
       "      <th>price</th>\n",
       "      <th>x</th>\n",
       "      <th>y</th>\n",
       "      <th>z</th>\n",
       "    </tr>\n",
       "  </thead>\n",
       "  <tbody>\n",
       "    <tr>\n",
       "      <th>1</th>\n",
       "      <td>0.23</td>\n",
       "      <td>Ideal</td>\n",
       "      <td>E</td>\n",
       "      <td>SI2</td>\n",
       "      <td>61.5</td>\n",
       "      <td>55.0</td>\n",
       "      <td>326</td>\n",
       "      <td>3.95</td>\n",
       "      <td>3.98</td>\n",
       "      <td>2.43</td>\n",
       "    </tr>\n",
       "    <tr>\n",
       "      <th>2</th>\n",
       "      <td>0.21</td>\n",
       "      <td>Premium</td>\n",
       "      <td>E</td>\n",
       "      <td>SI1</td>\n",
       "      <td>59.8</td>\n",
       "      <td>61.0</td>\n",
       "      <td>326</td>\n",
       "      <td>3.89</td>\n",
       "      <td>3.84</td>\n",
       "      <td>2.31</td>\n",
       "    </tr>\n",
       "    <tr>\n",
       "      <th>3</th>\n",
       "      <td>0.23</td>\n",
       "      <td>Good</td>\n",
       "      <td>E</td>\n",
       "      <td>VS1</td>\n",
       "      <td>56.9</td>\n",
       "      <td>65.0</td>\n",
       "      <td>327</td>\n",
       "      <td>4.05</td>\n",
       "      <td>4.07</td>\n",
       "      <td>2.31</td>\n",
       "    </tr>\n",
       "    <tr>\n",
       "      <th>4</th>\n",
       "      <td>0.29</td>\n",
       "      <td>Premium</td>\n",
       "      <td>I</td>\n",
       "      <td>VS2</td>\n",
       "      <td>62.4</td>\n",
       "      <td>58.0</td>\n",
       "      <td>334</td>\n",
       "      <td>4.20</td>\n",
       "      <td>4.23</td>\n",
       "      <td>2.63</td>\n",
       "    </tr>\n",
       "    <tr>\n",
       "      <th>5</th>\n",
       "      <td>0.31</td>\n",
       "      <td>Good</td>\n",
       "      <td>J</td>\n",
       "      <td>SI2</td>\n",
       "      <td>63.3</td>\n",
       "      <td>58.0</td>\n",
       "      <td>335</td>\n",
       "      <td>4.34</td>\n",
       "      <td>4.35</td>\n",
       "      <td>2.75</td>\n",
       "    </tr>\n",
       "  </tbody>\n",
       "</table>\n",
       "</div>"
      ],
      "text/plain": [
       "   carat      cut color clarity  depth  table  price     x     y     z\n",
       "1   0.23    Ideal     E     SI2   61.5   55.0    326  3.95  3.98  2.43\n",
       "2   0.21  Premium     E     SI1   59.8   61.0    326  3.89  3.84  2.31\n",
       "3   0.23     Good     E     VS1   56.9   65.0    327  4.05  4.07  2.31\n",
       "4   0.29  Premium     I     VS2   62.4   58.0    334  4.20  4.23  2.63\n",
       "5   0.31     Good     J     SI2   63.3   58.0    335  4.34  4.35  2.75"
      ]
     },
     "execution_count": 5,
     "metadata": {},
     "output_type": "execute_result"
    }
   ],
   "source": [
    "diamonds.head()"
   ]
  },
  {
   "cell_type": "markdown",
   "metadata": {},
   "source": [
    "And inspect the value counts for the categorical features:"
   ]
  },
  {
   "cell_type": "code",
   "execution_count": 6,
   "metadata": {},
   "outputs": [
    {
     "name": "stdout",
     "output_type": "stream",
     "text": [
      "Ideal        21551\n",
      "Premium      13791\n",
      "Very Good    12082\n",
      "Good          4906\n",
      "Fair          1610\n",
      "Name: cut, dtype: int64 \n",
      "\n",
      "G    11292\n",
      "E     9797\n",
      "F     9542\n",
      "H     8304\n",
      "D     6775\n",
      "I     5422\n",
      "J     2808\n",
      "Name: color, dtype: int64 \n",
      "\n",
      "SI1     13065\n",
      "VS2     12258\n",
      "SI2      9194\n",
      "VS1      8171\n",
      "VVS2     5066\n",
      "VVS1     3655\n",
      "IF       1790\n",
      "I1        741\n",
      "Name: clarity, dtype: int64 \n",
      "\n"
     ]
    }
   ],
   "source": [
    "# Run this cell without changes\n",
    "categoricals = diamonds.select_dtypes(\"object\")\n",
    "\n",
    "for col in categoricals:\n",
    "    print(diamonds[col].value_counts(), \"\\n\")"
   ]
  },
  {
   "cell_type": "markdown",
   "metadata": {},
   "source": [
    "## 2. Build a Baseline Simple Linear Regression Model\n",
    "\n",
    "### Identifying a Highly Correlated Predictor\n",
    "\n",
    "The target variable is `price`. Look at the correlation coefficients for all of the predictor variables to find the one with the highest correlation with `price`."
   ]
  },
  {
   "cell_type": "code",
   "execution_count": 7,
   "metadata": {},
   "outputs": [
    {
     "data": {
      "text/html": [
       "<div>\n",
       "<style scoped>\n",
       "    .dataframe tbody tr th:only-of-type {\n",
       "        vertical-align: middle;\n",
       "    }\n",
       "\n",
       "    .dataframe tbody tr th {\n",
       "        vertical-align: top;\n",
       "    }\n",
       "\n",
       "    .dataframe thead th {\n",
       "        text-align: right;\n",
       "    }\n",
       "</style>\n",
       "<table border=\"1\" class=\"dataframe\">\n",
       "  <thead>\n",
       "    <tr style=\"text-align: right;\">\n",
       "      <th></th>\n",
       "      <th>carat</th>\n",
       "      <th>depth</th>\n",
       "      <th>table</th>\n",
       "      <th>price</th>\n",
       "      <th>x</th>\n",
       "      <th>y</th>\n",
       "      <th>z</th>\n",
       "    </tr>\n",
       "  </thead>\n",
       "  <tbody>\n",
       "    <tr>\n",
       "      <th>carat</th>\n",
       "      <td>1.000000</td>\n",
       "      <td>0.028224</td>\n",
       "      <td>0.181618</td>\n",
       "      <td>0.921591</td>\n",
       "      <td>0.975094</td>\n",
       "      <td>0.951722</td>\n",
       "      <td>0.953387</td>\n",
       "    </tr>\n",
       "    <tr>\n",
       "      <th>depth</th>\n",
       "      <td>0.028224</td>\n",
       "      <td>1.000000</td>\n",
       "      <td>-0.295779</td>\n",
       "      <td>-0.010647</td>\n",
       "      <td>-0.025289</td>\n",
       "      <td>-0.029341</td>\n",
       "      <td>0.094924</td>\n",
       "    </tr>\n",
       "    <tr>\n",
       "      <th>table</th>\n",
       "      <td>0.181618</td>\n",
       "      <td>-0.295779</td>\n",
       "      <td>1.000000</td>\n",
       "      <td>0.127134</td>\n",
       "      <td>0.195344</td>\n",
       "      <td>0.183760</td>\n",
       "      <td>0.150929</td>\n",
       "    </tr>\n",
       "    <tr>\n",
       "      <th>price</th>\n",
       "      <td>0.921591</td>\n",
       "      <td>-0.010647</td>\n",
       "      <td>0.127134</td>\n",
       "      <td>1.000000</td>\n",
       "      <td>0.884435</td>\n",
       "      <td>0.865421</td>\n",
       "      <td>0.861249</td>\n",
       "    </tr>\n",
       "    <tr>\n",
       "      <th>x</th>\n",
       "      <td>0.975094</td>\n",
       "      <td>-0.025289</td>\n",
       "      <td>0.195344</td>\n",
       "      <td>0.884435</td>\n",
       "      <td>1.000000</td>\n",
       "      <td>0.974701</td>\n",
       "      <td>0.970772</td>\n",
       "    </tr>\n",
       "    <tr>\n",
       "      <th>y</th>\n",
       "      <td>0.951722</td>\n",
       "      <td>-0.029341</td>\n",
       "      <td>0.183760</td>\n",
       "      <td>0.865421</td>\n",
       "      <td>0.974701</td>\n",
       "      <td>1.000000</td>\n",
       "      <td>0.952006</td>\n",
       "    </tr>\n",
       "    <tr>\n",
       "      <th>z</th>\n",
       "      <td>0.953387</td>\n",
       "      <td>0.094924</td>\n",
       "      <td>0.150929</td>\n",
       "      <td>0.861249</td>\n",
       "      <td>0.970772</td>\n",
       "      <td>0.952006</td>\n",
       "      <td>1.000000</td>\n",
       "    </tr>\n",
       "  </tbody>\n",
       "</table>\n",
       "</div>"
      ],
      "text/plain": [
       "          carat     depth     table     price         x         y         z\n",
       "carat  1.000000  0.028224  0.181618  0.921591  0.975094  0.951722  0.953387\n",
       "depth  0.028224  1.000000 -0.295779 -0.010647 -0.025289 -0.029341  0.094924\n",
       "table  0.181618 -0.295779  1.000000  0.127134  0.195344  0.183760  0.150929\n",
       "price  0.921591 -0.010647  0.127134  1.000000  0.884435  0.865421  0.861249\n",
       "x      0.975094 -0.025289  0.195344  0.884435  1.000000  0.974701  0.970772\n",
       "y      0.951722 -0.029341  0.183760  0.865421  0.974701  1.000000  0.952006\n",
       "z      0.953387  0.094924  0.150929  0.861249  0.970772  0.952006  1.000000"
      ]
     },
     "execution_count": 7,
     "metadata": {},
     "output_type": "execute_result"
    }
   ],
   "source": [
    "diamonds.corr()"
   ]
  },
  {
   "cell_type": "code",
   "execution_count": 8,
   "metadata": {},
   "outputs": [
    {
     "data": {
      "image/png": "[encoded data removed]",
      "text/plain": [
       "<Figure size 1008x432 with 2 Axes>"
      ]
     },
     "metadata": {
      "needs_background": "light"
     },
     "output_type": "display_data"
    }
   ],
   "source": [
    "# Your code here - look at correlations\n",
    "\n",
    "plt.figure(figsize=(14, 6))\n",
    "sns.heatmap(diamonds.corr(), annot=True)\n",
    "\n",
    "plt.title('Correlation Matrix for Features')\n",
    "plt.savefig(\"corrmat.jpg\", dpi = 300)\n",
    "plt.show()"
   ]
  },
  {
   "cell_type": "markdown",
   "metadata": {},
   "source": [
    "Identify the name of the predictor column with the strongest correlation below."
   ]
  },
  {
   "cell_type": "code",
   "execution_count": 9,
   "metadata": {},
   "outputs": [],
   "source": [
    "# Replace None with appropriate code\n",
    "most_correlated = 'carat'"
   ]
  },
  {
   "cell_type": "markdown",
   "metadata": {},
   "source": [
    "The following code checks that you specified a column correctly:"
   ]
  },
  {
   "cell_type": "code",
   "execution_count": 10,
   "metadata": {},
   "outputs": [],
   "source": [
    "# Run this cell without changes\n",
    "\n",
    "# most_correlated should be a string\n",
    "assert type(most_correlated) == str\n",
    "\n",
    "# most_correlated should be one of the columns other than price\n",
    "assert most_correlated in diamonds.drop(\"price\", axis=1).columns"
   ]
  },
  {
   "cell_type": "markdown",
   "metadata": {},
   "source": [
    "### Plotting the Predictor vs. Price\n",
    "\n",
    "We'll also create a scatter plot of that variable vs. `price`:"
   ]
  },
  {
   "cell_type": "code",
   "execution_count": 11,
   "metadata": {},
   "outputs": [
    {
     "data": {
      "image/png": "[encoded data removed]",
      "text/plain": [
       "<Figure size 432x288 with 1 Axes>"
      ]
     },
     "metadata": {
      "needs_background": "light"
     },
     "output_type": "display_data"
    }
   ],
   "source": [
    "# Run this cell without changes\n",
    "\n",
    "# Plot a sample of 1000 data points, most_correlated vs. price\n",
    "diamonds.sample(1000, random_state=1).plot.scatter(x=most_correlated, y=\"price\");"
   ]
  },
  {
   "cell_type": "markdown",
   "metadata": {},
   "source": [
    "### Setting Up Variables for Regression\n",
    "\n",
    "Declare `y` and `X_baseline` variables, where `y` is a Series containing `price` data and `X_baseline` is a DataFrame containing the column with the strongest correlation."
   ]
  },
  {
   "cell_type": "code",
   "execution_count": 12,
   "metadata": {},
   "outputs": [],
   "source": [
    "# Replace None with appropriate code\n",
    "#y = pd.Series(data=diamonds['price']\n",
    "#X_baseline = pd.DataFrame(diamonds[most_correlated])"
   ]
  },
  {
   "cell_type": "code",
   "execution_count": 13,
   "metadata": {},
   "outputs": [],
   "source": [
    "y = diamonds['price']\n",
    "#X_baseline = pd.DataFrame(data=diamonds['carat'])\n",
    "X_baseline = diamonds[[most_correlated]]"
   ]
  },
  {
   "cell_type": "markdown",
   "metadata": {},
   "source": [
    "The following code checks that you created valid `y` and `X_baseline` variables:"
   ]
  },
  {
   "cell_type": "code",
   "execution_count": 14,
   "metadata": {},
   "outputs": [],
   "source": [
    "# Run this code without changes\n",
    "\n",
    "# y should be a series\n",
    "assert type(y) == pd.Series\n",
    "\n",
    "# y should contain about 54k rows\n",
    "assert y.shape == (53940,)\n",
    "\n",
    "# X_baseline should be a DataFrame\n",
    "assert type(X_baseline) == pd.DataFrame\n",
    "\n",
    "# X_baseline should contain the same number of rows as y\n",
    "assert X_baseline.shape[0] == y.shape[0]\n",
    "\n",
    "# X_baseline should have 1 column\n",
    "assert X_baseline.shape[1] == 1"
   ]
  },
  {
   "cell_type": "markdown",
   "metadata": {},
   "source": [
    "### Creating and Fitting Simple Linear Regression\n",
    "\n",
    "The following code uses your variables to build and fit a simple linear regression."
   ]
  },
  {
   "cell_type": "code",
   "execution_count": 15,
   "metadata": {},
   "outputs": [],
   "source": [
    "# Run this cell without changes\n",
    "import statsmodels.api as sm\n",
    "\n",
    "baseline_model = sm.OLS(y, sm.add_constant(X_baseline))\n",
    "baseline_results = baseline_model.fit()"
   ]
  },
  {
   "cell_type": "markdown",
   "metadata": {},
   "source": [
    "## 3. Evaluate and Interpret Baseline Model Results\n",
    "\n",
    "Write any necessary code to evaluate the model performance overall and interpret its coefficients."
   ]
  },
  {
   "cell_type": "code",
   "execution_count": 16,
   "metadata": {
    "scrolled": true
   },
   "outputs": [
    {
     "data": {
      "text/html": [
       "<table class=\"simpletable\">\n",
       "<caption>OLS Regression Results</caption>\n",
       "<tr>\n",
       "  <th>Dep. Variable:</th>          <td>price</td>      <th>  R-squared:         </th>  <td>   0.849</td>  \n",
       "</tr>\n",
       "<tr>\n",
       "  <th>Model:</th>                   <td>OLS</td>       <th>  Adj. R-squared:    </th>  <td>   0.849</td>  \n",
       "</tr>\n",
       "<tr>\n",
       "  <th>Method:</th>             <td>Least Squares</td>  <th>  F-statistic:       </th>  <td>3.041e+05</td> \n",
       "</tr>\n",
       "<tr>\n",
       "  <th>Date:</th>             <td>Wed, 27 Jul 2022</td> <th>  Prob (F-statistic):</th>   <td>  0.00</td>   \n",
       "</tr>\n",
       "<tr>\n",
       "  <th>Time:</th>                 <td>16:40:45</td>     <th>  Log-Likelihood:    </th> <td>-4.7273e+05</td>\n",
       "</tr>\n",
       "<tr>\n",
       "  <th>No. Observations:</th>      <td> 53940</td>      <th>  AIC:               </th>  <td>9.455e+05</td> \n",
       "</tr>\n",
       "<tr>\n",
       "  <th>Df Residuals:</th>          <td> 53938</td>      <th>  BIC:               </th>  <td>9.455e+05</td> \n",
       "</tr>\n",
       "<tr>\n",
       "  <th>Df Model:</th>              <td>     1</td>      <th>                     </th>      <td> </td>     \n",
       "</tr>\n",
       "<tr>\n",
       "  <th>Covariance Type:</th>      <td>nonrobust</td>    <th>                     </th>      <td> </td>     \n",
       "</tr>\n",
       "</table>\n",
       "<table class=\"simpletable\">\n",
       "<tr>\n",
       "    <td></td>       <th>coef</th>     <th>std err</th>      <th>t</th>      <th>P>|t|</th>  <th>[0.025</th>    <th>0.975]</th>  \n",
       "</tr>\n",
       "<tr>\n",
       "  <th>const</th> <td>-2256.3606</td> <td>   13.055</td> <td> -172.830</td> <td> 0.000</td> <td>-2281.949</td> <td>-2230.772</td>\n",
       "</tr>\n",
       "<tr>\n",
       "  <th>carat</th> <td> 7756.4256</td> <td>   14.067</td> <td>  551.408</td> <td> 0.000</td> <td> 7728.855</td> <td> 7783.996</td>\n",
       "</tr>\n",
       "</table>\n",
       "<table class=\"simpletable\">\n",
       "<tr>\n",
       "  <th>Omnibus:</th>       <td>14025.341</td> <th>  Durbin-Watson:     </th>  <td>   0.986</td> \n",
       "</tr>\n",
       "<tr>\n",
       "  <th>Prob(Omnibus):</th>  <td> 0.000</td>   <th>  Jarque-Bera (JB):  </th> <td>153030.525</td>\n",
       "</tr>\n",
       "<tr>\n",
       "  <th>Skew:</th>           <td> 0.939</td>   <th>  Prob(JB):          </th>  <td>    0.00</td> \n",
       "</tr>\n",
       "<tr>\n",
       "  <th>Kurtosis:</th>       <td>11.035</td>   <th>  Cond. No.          </th>  <td>    3.65</td> \n",
       "</tr>\n",
       "</table><br/><br/>Notes:<br/>[1] Standard Errors assume that the covariance matrix of the errors is correctly specified."
      ],
      "text/plain": [
       "<class 'statsmodels.iolib.summary.Summary'>\n",
       "\"\"\"\n",
       "                            OLS Regression Results                            \n",
       "==============================================================================\n",
       "Dep. Variable:                  price   R-squared:                       0.849\n",
       "Model:                            OLS   Adj. R-squared:                  0.849\n",
       "Method:                 Least Squares   F-statistic:                 3.041e+05\n",
       "Date:                Wed, 27 Jul 2022   Prob (F-statistic):               0.00\n",
       "Time:                        16:40:45   Log-Likelihood:            -4.7273e+05\n",
       "No. Observations:               53940   AIC:                         9.455e+05\n",
       "Df Residuals:                   53938   BIC:                         9.455e+05\n",
       "Df Model:                           1                                         \n",
       "Covariance Type:            nonrobust                                         \n",
       "==============================================================================\n",
       "                 coef    std err          t      P>|t|      [0.025      0.975]\n",
       "------------------------------------------------------------------------------\n",
       "const      -2256.3606     13.055   -172.830      0.000   -2281.949   -2230.772\n",
       "carat       7756.4256     14.067    551.408      0.000    7728.855    7783.996\n",
       "==============================================================================\n",
       "Omnibus:                    14025.341   Durbin-Watson:                   0.986\n",
       "Prob(Omnibus):                  0.000   Jarque-Bera (JB):           153030.525\n",
       "Skew:                           0.939   Prob(JB):                         0.00\n",
       "Kurtosis:                      11.035   Cond. No.                         3.65\n",
       "==============================================================================\n",
       "\n",
       "Notes:\n",
       "[1] Standard Errors assume that the covariance matrix of the errors is correctly specified.\n",
       "\"\"\""
      ]
     },
     "execution_count": 16,
     "metadata": {},
     "output_type": "execute_result"
    }
   ],
   "source": [
    "# Your code here\n",
    "baseline_results.summary()"
   ]
  },
  {
   "cell_type": "code",
   "execution_count": 17,
   "metadata": {},
   "outputs": [
    {
     "data": {
      "text/plain": [
       "1007.4632473569878"
      ]
     },
     "execution_count": 17,
     "metadata": {},
     "output_type": "execute_result"
    }
   ],
   "source": [
    "from sklearn.metrics import mean_absolute_error\n",
    "\n",
    "baseline_mae = mean_absolute_error(y, baseline_results.predict(sm.add_constant(X_baseline)))\n",
    "baseline_mae"
   ]
  },
  {
   "cell_type": "markdown",
   "metadata": {},
   "source": [
    "Then summarize your findings below:"
   ]
  },
  {
   "cell_type": "markdown",
   "metadata": {},
   "source": [
    "<details>\n",
    "    <summary style=\"cursor: pointer\"><b>Solution (click to expand)</b></summary>\n",
    "\n",
    "`carat` was the attribute most strongly correlated with `price`, therefore our model is describing this relationship.\n",
    "\n",
    "Overall this model is statistically significant and explains about 85% of the variance in price. In a typical prediction, the model is off by about &dollar;1k.\n",
    "\n",
    "* The intercept is at about -\\\\$2.3k. This means that a zero-carat diamond would sell for -\\\\$2.3k.\n",
    "* The coefficient for `carat` is about \\\\$7.8k. This means for each additional carat, the diamond costs about \\\\$7.8k more.\n",
    "\n",
    "</details>    "
   ]
  },
  {
   "cell_type": "markdown",
   "metadata": {},
   "source": [
    "## 4. Prepare a Categorical Feature for Multiple Regression Modeling\n",
    "\n",
    "Now let's go beyond our simple linear regression and add a categorical feature.\n",
    "\n",
    "### Identifying a Promising Predictor\n",
    "\n",
    "Below we create bar graphs for the categories present in each categorical feature:"
   ]
  },
  {
   "cell_type": "code",
   "execution_count": 18,
   "metadata": {},
   "outputs": [
    {
     "data": {
      "image/png": "[encoded data removed]",
      "text/plain": [
       "<Figure size 864x360 with 3 Axes>"
      ]
     },
     "metadata": {
      "needs_background": "light"
     },
     "output_type": "display_data"
    }
   ],
   "source": [
    "# Run this code without changes\n",
    "import matplotlib.pyplot as plt\n",
    "\n",
    "categorical_features = diamonds.select_dtypes(\"object\").columns\n",
    "fig, axes = plt.subplots(ncols=len(categorical_features), figsize=(12,5))\n",
    "\n",
    "for index, feature in enumerate(categorical_features):\n",
    "    diamonds.groupby(feature).mean().plot.bar(\n",
    "        y=\"price\", ax=axes[index])"
   ]
  },
  {
   "cell_type": "markdown",
   "metadata": {},
   "source": [
    "Identify the name of the categorical predictor column you want to use in your model below. The choice here is more open-ended than choosing the numeric predictor above -- choose something that will be interpretable in a final model, and where the different categories seem to have an impact on the price."
   ]
  },
  {
   "cell_type": "code",
   "execution_count": 19,
   "metadata": {},
   "outputs": [],
   "source": [
    "# Replace None with appropriate code\n",
    "cat_col = 'cut'"
   ]
  },
  {
   "cell_type": "markdown",
   "metadata": {},
   "source": [
    "The following code checks that you specified a column correctly:"
   ]
  },
  {
   "cell_type": "code",
   "execution_count": 20,
   "metadata": {},
   "outputs": [],
   "source": [
    "# Run this cell without changes\n",
    "\n",
    "# cat_col should be a string\n",
    "assert type(cat_col) == str\n",
    "\n",
    "# cat_col should be one of the categorical columns\n",
    "assert cat_col in diamonds.select_dtypes(\"object\").columns"
   ]
  },
  {
   "cell_type": "markdown",
   "metadata": {},
   "source": [
    "### Setting Up Variables for Regression\n",
    "\n",
    "The code below creates a variable `X_iterated`: a DataFrame containing the column with the strongest correlation **and** your selected categorical feature."
   ]
  },
  {
   "cell_type": "code",
   "execution_count": 21,
   "metadata": {},
   "outputs": [
    {
     "data": {
      "text/html": [
       "<div>\n",
       "<style scoped>\n",
       "    .dataframe tbody tr th:only-of-type {\n",
       "        vertical-align: middle;\n",
       "    }\n",
       "\n",
       "    .dataframe tbody tr th {\n",
       "        vertical-align: top;\n",
       "    }\n",
       "\n",
       "    .dataframe thead th {\n",
       "        text-align: right;\n",
       "    }\n",
       "</style>\n",
       "<table border=\"1\" class=\"dataframe\">\n",
       "  <thead>\n",
       "    <tr style=\"text-align: right;\">\n",
       "      <th></th>\n",
       "      <th>carat</th>\n",
       "      <th>cut</th>\n",
       "    </tr>\n",
       "  </thead>\n",
       "  <tbody>\n",
       "    <tr>\n",
       "      <th>1</th>\n",
       "      <td>0.23</td>\n",
       "      <td>Ideal</td>\n",
       "    </tr>\n",
       "    <tr>\n",
       "      <th>2</th>\n",
       "      <td>0.21</td>\n",
       "      <td>Premium</td>\n",
       "    </tr>\n",
       "    <tr>\n",
       "      <th>3</th>\n",
       "      <td>0.23</td>\n",
       "      <td>Good</td>\n",
       "    </tr>\n",
       "    <tr>\n",
       "      <th>4</th>\n",
       "      <td>0.29</td>\n",
       "      <td>Premium</td>\n",
       "    </tr>\n",
       "    <tr>\n",
       "      <th>5</th>\n",
       "      <td>0.31</td>\n",
       "      <td>Good</td>\n",
       "    </tr>\n",
       "    <tr>\n",
       "      <th>...</th>\n",
       "      <td>...</td>\n",
       "      <td>...</td>\n",
       "    </tr>\n",
       "    <tr>\n",
       "      <th>53936</th>\n",
       "      <td>0.72</td>\n",
       "      <td>Ideal</td>\n",
       "    </tr>\n",
       "    <tr>\n",
       "      <th>53937</th>\n",
       "      <td>0.72</td>\n",
       "      <td>Good</td>\n",
       "    </tr>\n",
       "    <tr>\n",
       "      <th>53938</th>\n",
       "      <td>0.70</td>\n",
       "      <td>Very Good</td>\n",
       "    </tr>\n",
       "    <tr>\n",
       "      <th>53939</th>\n",
       "      <td>0.86</td>\n",
       "      <td>Premium</td>\n",
       "    </tr>\n",
       "    <tr>\n",
       "      <th>53940</th>\n",
       "      <td>0.75</td>\n",
       "      <td>Ideal</td>\n",
       "    </tr>\n",
       "  </tbody>\n",
       "</table>\n",
       "<p>53940 rows × 2 columns</p>\n",
       "</div>"
      ],
      "text/plain": [
       "       carat        cut\n",
       "1       0.23      Ideal\n",
       "2       0.21    Premium\n",
       "3       0.23       Good\n",
       "4       0.29    Premium\n",
       "5       0.31       Good\n",
       "...      ...        ...\n",
       "53936   0.72      Ideal\n",
       "53937   0.72       Good\n",
       "53938   0.70  Very Good\n",
       "53939   0.86    Premium\n",
       "53940   0.75      Ideal\n",
       "\n",
       "[53940 rows x 2 columns]"
      ]
     },
     "execution_count": 21,
     "metadata": {},
     "output_type": "execute_result"
    }
   ],
   "source": [
    "# Run this cell without changes\n",
    "X_iterated = diamonds[[most_correlated, cat_col]]\n",
    "X_iterated"
   ]
  },
  {
   "cell_type": "markdown",
   "metadata": {},
   "source": [
    "### Preprocessing Categorical Variable\n",
    "\n",
    "If we tried to pass `X_iterated` as-is into `sm.OLS`, we would get an error. We need to use `pd.get_dummies` to create dummy variables for `cat_col`.\n",
    "\n",
    "**DO NOT** use `drop_first=True`, so that you can intentionally set a meaningful reference category instead."
   ]
  },
  {
   "cell_type": "code",
   "execution_count": 22,
   "metadata": {},
   "outputs": [
    {
     "data": {
      "text/html": [
       "<div>\n",
       "<style scoped>\n",
       "    .dataframe tbody tr th:only-of-type {\n",
       "        vertical-align: middle;\n",
       "    }\n",
       "\n",
       "    .dataframe tbody tr th {\n",
       "        vertical-align: top;\n",
       "    }\n",
       "\n",
       "    .dataframe thead th {\n",
       "        text-align: right;\n",
       "    }\n",
       "</style>\n",
       "<table border=\"1\" class=\"dataframe\">\n",
       "  <thead>\n",
       "    <tr style=\"text-align: right;\">\n",
       "      <th></th>\n",
       "      <th>carat</th>\n",
       "      <th>cut_Fair</th>\n",
       "      <th>cut_Good</th>\n",
       "      <th>cut_Ideal</th>\n",
       "      <th>cut_Premium</th>\n",
       "      <th>cut_Very Good</th>\n",
       "    </tr>\n",
       "  </thead>\n",
       "  <tbody>\n",
       "    <tr>\n",
       "      <th>1</th>\n",
       "      <td>0.23</td>\n",
       "      <td>0</td>\n",
       "      <td>0</td>\n",
       "      <td>1</td>\n",
       "      <td>0</td>\n",
       "      <td>0</td>\n",
       "    </tr>\n",
       "    <tr>\n",
       "      <th>2</th>\n",
       "      <td>0.21</td>\n",
       "      <td>0</td>\n",
       "      <td>0</td>\n",
       "      <td>0</td>\n",
       "      <td>1</td>\n",
       "      <td>0</td>\n",
       "    </tr>\n",
       "    <tr>\n",
       "      <th>3</th>\n",
       "      <td>0.23</td>\n",
       "      <td>0</td>\n",
       "      <td>1</td>\n",
       "      <td>0</td>\n",
       "      <td>0</td>\n",
       "      <td>0</td>\n",
       "    </tr>\n",
       "    <tr>\n",
       "      <th>4</th>\n",
       "      <td>0.29</td>\n",
       "      <td>0</td>\n",
       "      <td>0</td>\n",
       "      <td>0</td>\n",
       "      <td>1</td>\n",
       "      <td>0</td>\n",
       "    </tr>\n",
       "    <tr>\n",
       "      <th>5</th>\n",
       "      <td>0.31</td>\n",
       "      <td>0</td>\n",
       "      <td>1</td>\n",
       "      <td>0</td>\n",
       "      <td>0</td>\n",
       "      <td>0</td>\n",
       "    </tr>\n",
       "    <tr>\n",
       "      <th>...</th>\n",
       "      <td>...</td>\n",
       "      <td>...</td>\n",
       "      <td>...</td>\n",
       "      <td>...</td>\n",
       "      <td>...</td>\n",
       "      <td>...</td>\n",
       "    </tr>\n",
       "    <tr>\n",
       "      <th>53936</th>\n",
       "      <td>0.72</td>\n",
       "      <td>0</td>\n",
       "      <td>0</td>\n",
       "      <td>1</td>\n",
       "      <td>0</td>\n",
       "      <td>0</td>\n",
       "    </tr>\n",
       "    <tr>\n",
       "      <th>53937</th>\n",
       "      <td>0.72</td>\n",
       "      <td>0</td>\n",
       "      <td>1</td>\n",
       "      <td>0</td>\n",
       "      <td>0</td>\n",
       "      <td>0</td>\n",
       "    </tr>\n",
       "    <tr>\n",
       "      <th>53938</th>\n",
       "      <td>0.70</td>\n",
       "      <td>0</td>\n",
       "      <td>0</td>\n",
       "      <td>0</td>\n",
       "      <td>0</td>\n",
       "      <td>1</td>\n",
       "    </tr>\n",
       "    <tr>\n",
       "      <th>53939</th>\n",
       "      <td>0.86</td>\n",
       "      <td>0</td>\n",
       "      <td>0</td>\n",
       "      <td>0</td>\n",
       "      <td>1</td>\n",
       "      <td>0</td>\n",
       "    </tr>\n",
       "    <tr>\n",
       "      <th>53940</th>\n",
       "      <td>0.75</td>\n",
       "      <td>0</td>\n",
       "      <td>0</td>\n",
       "      <td>1</td>\n",
       "      <td>0</td>\n",
       "      <td>0</td>\n",
       "    </tr>\n",
       "  </tbody>\n",
       "</table>\n",
       "<p>53940 rows × 6 columns</p>\n",
       "</div>"
      ],
      "text/plain": [
       "       carat  cut_Fair  cut_Good  cut_Ideal  cut_Premium  cut_Very Good\n",
       "1       0.23         0         0          1            0              0\n",
       "2       0.21         0         0          0            1              0\n",
       "3       0.23         0         1          0            0              0\n",
       "4       0.29         0         0          0            1              0\n",
       "5       0.31         0         1          0            0              0\n",
       "...      ...       ...       ...        ...          ...            ...\n",
       "53936   0.72         0         0          1            0              0\n",
       "53937   0.72         0         1          0            0              0\n",
       "53938   0.70         0         0          0            0              1\n",
       "53939   0.86         0         0          0            1              0\n",
       "53940   0.75         0         0          1            0              0\n",
       "\n",
       "[53940 rows x 6 columns]"
      ]
     },
     "execution_count": 22,
     "metadata": {},
     "output_type": "execute_result"
    }
   ],
   "source": [
    "# Replace None with appropriate code\n",
    "# Use pd.get_dummies to one-hot encode the categorical column in X_iterated\n",
    "X_iterated = pd.get_dummies(X_iterated, columns=[cat_col])\n",
    "X_iterated"
   ]
  },
  {
   "cell_type": "markdown",
   "metadata": {},
   "source": [
    "The following code checks that you have the right number of columns:"
   ]
  },
  {
   "cell_type": "code",
   "execution_count": 23,
   "metadata": {},
   "outputs": [],
   "source": [
    "# Run this cell without changes\n",
    "\n",
    "# X_iterated should be a dataframe\n",
    "assert type(X_iterated) == pd.DataFrame\n",
    "\n",
    "# You should have the number of unique values in one of the\n",
    "# categorical columns + 1 (representing the numeric predictor)\n",
    "valid_col_nums = diamonds.select_dtypes(\"object\").nunique() + 1\n",
    "\n",
    "# Check that there are the correct number of columns\n",
    "# (if this crashes, make sure you did not use `drop_first=True`)\n",
    "assert X_iterated.shape[1] in valid_col_nums.values"
   ]
  },
  {
   "cell_type": "markdown",
   "metadata": {},
   "source": [
    "Now, applying your domain understanding, **choose a column to drop and drop it**. This category should make sense as a \"baseline\" or \"reference\"."
   ]
  },
  {
   "cell_type": "code",
   "execution_count": 24,
   "metadata": {},
   "outputs": [
    {
     "data": {
      "text/html": [
       "<div>\n",
       "<style scoped>\n",
       "    .dataframe tbody tr th:only-of-type {\n",
       "        vertical-align: middle;\n",
       "    }\n",
       "\n",
       "    .dataframe tbody tr th {\n",
       "        vertical-align: top;\n",
       "    }\n",
       "\n",
       "    .dataframe thead th {\n",
       "        text-align: right;\n",
       "    }\n",
       "</style>\n",
       "<table border=\"1\" class=\"dataframe\">\n",
       "  <thead>\n",
       "    <tr style=\"text-align: right;\">\n",
       "      <th></th>\n",
       "      <th>carat</th>\n",
       "      <th>cut_Good</th>\n",
       "      <th>cut_Ideal</th>\n",
       "      <th>cut_Premium</th>\n",
       "      <th>cut_Very Good</th>\n",
       "    </tr>\n",
       "  </thead>\n",
       "  <tbody>\n",
       "    <tr>\n",
       "      <th>1</th>\n",
       "      <td>0.23</td>\n",
       "      <td>0</td>\n",
       "      <td>1</td>\n",
       "      <td>0</td>\n",
       "      <td>0</td>\n",
       "    </tr>\n",
       "    <tr>\n",
       "      <th>2</th>\n",
       "      <td>0.21</td>\n",
       "      <td>0</td>\n",
       "      <td>0</td>\n",
       "      <td>1</td>\n",
       "      <td>0</td>\n",
       "    </tr>\n",
       "    <tr>\n",
       "      <th>3</th>\n",
       "      <td>0.23</td>\n",
       "      <td>1</td>\n",
       "      <td>0</td>\n",
       "      <td>0</td>\n",
       "      <td>0</td>\n",
       "    </tr>\n",
       "    <tr>\n",
       "      <th>4</th>\n",
       "      <td>0.29</td>\n",
       "      <td>0</td>\n",
       "      <td>0</td>\n",
       "      <td>1</td>\n",
       "      <td>0</td>\n",
       "    </tr>\n",
       "    <tr>\n",
       "      <th>5</th>\n",
       "      <td>0.31</td>\n",
       "      <td>1</td>\n",
       "      <td>0</td>\n",
       "      <td>0</td>\n",
       "      <td>0</td>\n",
       "    </tr>\n",
       "    <tr>\n",
       "      <th>...</th>\n",
       "      <td>...</td>\n",
       "      <td>...</td>\n",
       "      <td>...</td>\n",
       "      <td>...</td>\n",
       "      <td>...</td>\n",
       "    </tr>\n",
       "    <tr>\n",
       "      <th>53936</th>\n",
       "      <td>0.72</td>\n",
       "      <td>0</td>\n",
       "      <td>1</td>\n",
       "      <td>0</td>\n",
       "      <td>0</td>\n",
       "    </tr>\n",
       "    <tr>\n",
       "      <th>53937</th>\n",
       "      <td>0.72</td>\n",
       "      <td>1</td>\n",
       "      <td>0</td>\n",
       "      <td>0</td>\n",
       "      <td>0</td>\n",
       "    </tr>\n",
       "    <tr>\n",
       "      <th>53938</th>\n",
       "      <td>0.70</td>\n",
       "      <td>0</td>\n",
       "      <td>0</td>\n",
       "      <td>0</td>\n",
       "      <td>1</td>\n",
       "    </tr>\n",
       "    <tr>\n",
       "      <th>53939</th>\n",
       "      <td>0.86</td>\n",
       "      <td>0</td>\n",
       "      <td>0</td>\n",
       "      <td>1</td>\n",
       "      <td>0</td>\n",
       "    </tr>\n",
       "    <tr>\n",
       "      <th>53940</th>\n",
       "      <td>0.75</td>\n",
       "      <td>0</td>\n",
       "      <td>1</td>\n",
       "      <td>0</td>\n",
       "      <td>0</td>\n",
       "    </tr>\n",
       "  </tbody>\n",
       "</table>\n",
       "<p>53940 rows × 5 columns</p>\n",
       "</div>"
      ],
      "text/plain": [
       "       carat  cut_Good  cut_Ideal  cut_Premium  cut_Very Good\n",
       "1       0.23         0          1            0              0\n",
       "2       0.21         0          0            1              0\n",
       "3       0.23         1          0            0              0\n",
       "4       0.29         0          0            1              0\n",
       "5       0.31         1          0            0              0\n",
       "...      ...       ...        ...          ...            ...\n",
       "53936   0.72         0          1            0              0\n",
       "53937   0.72         1          0            0              0\n",
       "53938   0.70         0          0            0              1\n",
       "53939   0.86         0          0            1              0\n",
       "53940   0.75         0          1            0              0\n",
       "\n",
       "[53940 rows x 5 columns]"
      ]
     },
     "execution_count": 24,
     "metadata": {},
     "output_type": "execute_result"
    }
   ],
   "source": [
    "# Your code here\n",
    "X_iterated.drop('cut_Fair', axis=1, inplace=True)\n",
    "X_iterated"
   ]
  },
  {
   "cell_type": "markdown",
   "metadata": {},
   "source": [
    "Now you should have 1 fewer column than before:"
   ]
  },
  {
   "cell_type": "code",
   "execution_count": 25,
   "metadata": {},
   "outputs": [],
   "source": [
    "# Run this cell without changes\n",
    "\n",
    "# Check that there are the correct number of columns\n",
    "assert X_iterated.shape[1] in (valid_col_nums - 1).values"
   ]
  },
  {
   "cell_type": "markdown",
   "metadata": {},
   "source": [
    "## 5. Build a Multiple Linear Regression Model\n",
    "\n",
    "Using the `y` variable from our previous model and `X_iterated`, build a model called `iterated_model` and a regression results object called `iterated_results`."
   ]
  },
  {
   "cell_type": "code",
   "execution_count": 26,
   "metadata": {},
   "outputs": [],
   "source": [
    "# Your code here\n",
    "iterated_model = sm.OLS(y, sm.add_constant(X_iterated))\n",
    "iterated_results = iterated_model.fit()"
   ]
  },
  {
   "cell_type": "markdown",
   "metadata": {},
   "source": [
    "## 6. Evaluate and Interpret Multiple Linear Regression Model Results\n",
    "\n",
    "If the model was set up correctly, the following code will print the results summary."
   ]
  },
  {
   "cell_type": "code",
   "execution_count": 27,
   "metadata": {},
   "outputs": [
    {
     "name": "stdout",
     "output_type": "stream",
     "text": [
      "                            OLS Regression Results                            \n",
      "==============================================================================\n",
      "Dep. Variable:                  price   R-squared:                       0.856\n",
      "Model:                            OLS   Adj. R-squared:                  0.856\n",
      "Method:                 Least Squares   F-statistic:                 6.437e+04\n",
      "Date:                Wed, 27 Jul 2022   Prob (F-statistic):               0.00\n",
      "Time:                        16:40:50   Log-Likelihood:            -4.7142e+05\n",
      "No. Observations:               53940   AIC:                         9.429e+05\n",
      "Df Residuals:                   53934   BIC:                         9.429e+05\n",
      "Df Model:                           5                                         \n",
      "Covariance Type:            nonrobust                                         \n",
      "=================================================================================\n",
      "                    coef    std err          t      P>|t|      [0.025      0.975]\n",
      "---------------------------------------------------------------------------------\n",
      "const         -3875.4697     40.408    -95.908      0.000   -3954.670   -3796.269\n",
      "carat          7871.0821     13.980    563.040      0.000    7843.682    7898.482\n",
      "cut_Good       1120.3319     43.499     25.755      0.000    1035.073    1205.591\n",
      "cut_Ideal      1800.9240     39.344     45.773      0.000    1723.809    1878.039\n",
      "cut_Premium    1439.0771     39.865     36.098      0.000    1360.941    1517.214\n",
      "cut_Very Good  1510.1354     40.240     37.528      0.000    1431.265    1589.006\n",
      "==============================================================================\n",
      "Omnibus:                    14616.138   Durbin-Watson:                   1.027\n",
      "Prob(Omnibus):                  0.000   Jarque-Bera (JB):           150962.278\n",
      "Skew:                           1.007   Prob(JB):                         0.00\n",
      "Kurtosis:                      10.944   Cond. No.                         18.7\n",
      "==============================================================================\n",
      "\n",
      "Notes:\n",
      "[1] Standard Errors assume that the covariance matrix of the errors is correctly specified.\n"
     ]
    }
   ],
   "source": [
    "# Run this cell without changes\n",
    "print(iterated_results.summary())"
   ]
  },
  {
   "cell_type": "markdown",
   "metadata": {},
   "source": [
    "Summarize your findings below. How did the iterated model perform overall? How does this compare to the baseline model? What do the coefficients mean?\n",
    "\n",
    "Create as many additional cells as needed."
   ]
  },
  {
   "cell_type": "code",
   "execution_count": 28,
   "metadata": {},
   "outputs": [
    {
     "name": "stdout",
     "output_type": "stream",
     "text": [
      "Writing this solution on the solution branch only because there are multiple\n",
      "valid options for the choice of categorical variable.\n",
      "\n",
      "In our case we chose `cut` because this seemed most straightforward to interpret.\n"
     ]
    }
   ],
   "source": [
    "# Your written answer here\n",
    "print(\"\"\"Writing this solution on the solution branch only because there are multiple\n",
    "valid options for the choice of categorical variable.\n",
    "\n",
    "In our case we chose `cut` because this seemed most straightforward to interpret.\"\"\")"
   ]
  },
  {
   "cell_type": "code",
   "execution_count": 29,
   "metadata": {},
   "outputs": [
    {
     "data": {
      "text/plain": [
       "(1007.4632473569878, 988.4566099282251)"
      ]
     },
     "execution_count": 29,
     "metadata": {},
     "output_type": "execute_result"
    }
   ],
   "source": [
    "iterated_mae = mean_absolute_error(y, iterated_results.predict(sm.add_constant(X_iterated)))\n",
    "baseline_mae, iterated_mae"
   ]
  },
  {
   "cell_type": "code",
   "execution_count": 30,
   "metadata": {},
   "outputs": [
    {
     "data": {
      "text/plain": [
       "(0.8493277330528323, 0.8564615345684443)"
      ]
     },
     "execution_count": 30,
     "metadata": {},
     "output_type": "execute_result"
    }
   ],
   "source": [
    "baseline_results.rsquared_adj, iterated_results.rsquared_adj"
   ]
  },
  {
   "cell_type": "code",
   "execution_count": 31,
   "metadata": {
    "scrolled": true
   },
   "outputs": [
    {
     "name": "stdout",
     "output_type": "stream",
     "text": [
      "Overall the model performed marginally better. We were off by about $988 rather\n",
      "than $1007 in a given prediction, and explained 85.6% rather than 84.9% of the\n",
      "variance in price.\n"
     ]
    }
   ],
   "source": [
    "print(\"\"\"Overall the model performed marginally better. We were off by about $988 rather\n",
    "than $1007 in a given prediction, and explained 85.6% rather than 84.9% of the\n",
    "variance in price.\"\"\")"
   ]
  },
  {
   "cell_type": "code",
   "execution_count": 32,
   "metadata": {
    "scrolled": true
   },
   "outputs": [
    {
     "data": {
      "text/html": [
       "<div>\n",
       "<style scoped>\n",
       "    .dataframe tbody tr th:only-of-type {\n",
       "        vertical-align: middle;\n",
       "    }\n",
       "\n",
       "    .dataframe tbody tr th {\n",
       "        vertical-align: top;\n",
       "    }\n",
       "\n",
       "    .dataframe thead th {\n",
       "        text-align: right;\n",
       "    }\n",
       "</style>\n",
       "<table border=\"1\" class=\"dataframe\">\n",
       "  <thead>\n",
       "    <tr style=\"text-align: right;\">\n",
       "      <th></th>\n",
       "      <th>coefficient</th>\n",
       "      <th>p-value</th>\n",
       "    </tr>\n",
       "  </thead>\n",
       "  <tbody>\n",
       "    <tr>\n",
       "      <th>const</th>\n",
       "      <td>-3875.469700</td>\n",
       "      <td>0.000000e+00</td>\n",
       "    </tr>\n",
       "    <tr>\n",
       "      <th>carat</th>\n",
       "      <td>7871.082134</td>\n",
       "      <td>0.000000e+00</td>\n",
       "    </tr>\n",
       "    <tr>\n",
       "      <th>cut_Good</th>\n",
       "      <td>1120.331853</td>\n",
       "      <td>2.143864e-145</td>\n",
       "    </tr>\n",
       "    <tr>\n",
       "      <th>cut_Ideal</th>\n",
       "      <td>1800.923984</td>\n",
       "      <td>0.000000e+00</td>\n",
       "    </tr>\n",
       "    <tr>\n",
       "      <th>cut_Premium</th>\n",
       "      <td>1439.077141</td>\n",
       "      <td>5.613914e-282</td>\n",
       "    </tr>\n",
       "    <tr>\n",
       "      <th>cut_Very Good</th>\n",
       "      <td>1510.135409</td>\n",
       "      <td>2.728234e-304</td>\n",
       "    </tr>\n",
       "  </tbody>\n",
       "</table>\n",
       "</div>"
      ],
      "text/plain": [
       "               coefficient        p-value\n",
       "const         -3875.469700   0.000000e+00\n",
       "carat          7871.082134   0.000000e+00\n",
       "cut_Good       1120.331853  2.143864e-145\n",
       "cut_Ideal      1800.923984   0.000000e+00\n",
       "cut_Premium    1439.077141  5.613914e-282\n",
       "cut_Very Good  1510.135409  2.728234e-304"
      ]
     },
     "execution_count": 32,
     "metadata": {},
     "output_type": "execute_result"
    }
   ],
   "source": [
    "results_df = pd.concat([iterated_results.params, iterated_results.pvalues], axis=1)\n",
    "results_df.columns = [\"coefficient\", \"p-value\"]\n",
    "results_df"
   ]
  },
  {
   "cell_type": "code",
   "execution_count": 33,
   "metadata": {},
   "outputs": [
    {
     "name": "stdout",
     "output_type": "stream",
     "text": [
      "All of the coefficients are statistically significant\n",
      "\n",
      "* The intercept is at about -$3.9k. This means that a zero-carat diamond with a\n",
      "  `cut` of \"Fair\" would sell for -$3.9k.\n",
      "  \n",
      "* The coefficient for `carat` is about $7.9k. This means for each additional carat,\n",
      "  the diamond costs about $7.9k more. We note that this is very similar to the\n",
      "  `carat` coefficient for the baseline model, meaning that `carat` and `cut` seem\n",
      "  to be explaining different aspects of price\n",
      "  \n",
      "* The coefficients for `cut` range from about $1.1k to about $1.8k\n",
      "  * For a cut of \"Good\" compared to a cut of \"Fair\", we expect +$1.1k price\n",
      "  * For a cut of \"Very Good\" compared to a cut of \"Fair\", we expect +$1.5k price\n",
      "  * For a cut of \"Premium\" comparedto a cut of \"Fair\", we expect +$1.4k price\n",
      "  * For a cut of \"Ideal\" compared to a cut of \"Fair\", we expect +$1.8k price\n",
      "  * This outcome is interesting since our data understanding seems to indicate that\n",
      "    \"Premium\" should be better than \"Very Good\". More investigation of other features\n",
      "    is needed to understand whether this can be explained by other variables, or if\n",
      "    \"Premium\" appears to be undervalued vs. the conventional wisdom\n"
     ]
    }
   ],
   "source": [
    "print(\"\"\"All of the coefficients are statistically significant\n",
    "\n",
    "* The intercept is at about -$3.9k. This means that a zero-carat diamond with a\n",
    "  `cut` of \"Fair\" would sell for -$3.9k.\n",
    "  \n",
    "* The coefficient for `carat` is about $7.9k. This means for each additional carat,\n",
    "  the diamond costs about $7.9k more. We note that this is very similar to the\n",
    "  `carat` coefficient for the baseline model, meaning that `carat` and `cut` seem\n",
    "  to be explaining different aspects of price\n",
    "  \n",
    "* The coefficients for `cut` range from about $1.1k to about $1.8k\n",
    "  * For a cut of \"Good\" compared to a cut of \"Fair\", we expect +$1.1k price\n",
    "  * For a cut of \"Very Good\" compared to a cut of \"Fair\", we expect +$1.5k price\n",
    "  * For a cut of \"Premium\" comparedto a cut of \"Fair\", we expect +$1.4k price\n",
    "  * For a cut of \"Ideal\" compared to a cut of \"Fair\", we expect +$1.8k price\n",
    "  * This outcome is interesting since our data understanding seems to indicate that\n",
    "    \"Premium\" should be better than \"Very Good\". More investigation of other features\n",
    "    is needed to understand whether this can be explained by other variables, or if\n",
    "    \"Premium\" appears to be undervalued vs. the conventional wisdom\"\"\")"
   ]
  },
  {
   "cell_type": "markdown",
   "metadata": {},
   "source": [
    "## Summary\n",
    "\n",
    "Congratulations, you completed an iterative linear regression process! You practiced developing a baseline and an iterated model, as well as identifying promising predictors from both numeric and categorical features."
   ]
  }
 ],
 "metadata": {
  "kernelspec": {
   "display_name": "Python (learn-env)",
   "language": "python",
   "name": "learn-env"
  },
  "language_info": {
   "codemirror_mode": {
    "name": "ipython",
    "version": 3
   },
   "file_extension": ".py",
   "mimetype": "text/x-python",
   "name": "python",
   "nbconvert_exporter": "python",
   "pygments_lexer": "ipython3",
   "version": "3.9.12"
  }
 },
 "nbformat": 4,
 "nbformat_minor": 4
}
